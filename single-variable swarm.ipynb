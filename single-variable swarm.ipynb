{
 "cells": [
  {
   "cell_type": "code",
   "execution_count": 1,
   "metadata": {},
   "outputs": [],
   "source": [
    "import numpy as np\n",
    "import math\n",
    "import random as rand"
   ]
  },
  {
   "cell_type": "code",
   "execution_count": 45,
   "metadata": {},
   "outputs": [],
   "source": [
    "'''\n",
    "Algoritma PSO pada program ini hanya menerima optimisasi fungsi objektif satu variabel.\n",
    "Stopping condition berdasarkan jumlah iterasi.\n",
    "Mekanisme Status Updating berdasarkan Kennedy-Eberhart (1995)\n",
    "'''\n",
    "\n",
    "class Swarm:\n",
    "    def __init__(self, obj_func, pop, rho=1, c=[1,1], r=[rand.random(), rand.random()], it=15):\n",
    "        self.c = c\n",
    "        self.r = r\n",
    "        self.rho = rho\n",
    "        self.it = it\n",
    "        \n",
    "        self.n_pop = pop.shape[0]\n",
    "        self.pop = np.zeros((self.n_pop, it+1))\n",
    "        self.pop[:, 0] = pop.copy()\n",
    "        \n",
    "        self.func = obj_func\n",
    "        self.fitness = np.zeros((self.n_pop, self.it+1))\n",
    "        \n",
    "        self.xg = 0\n",
    "        self.xl = np.zeros((self.n_pop, 1))\n",
    "        self.v = np.zeros((self.n_pop, self.it+1))\n",
    "    \n",
    "    def adjust(self, param, t):\n",
    "        if t == 0:\n",
    "            return np.zeros((self.n_pop, 1))\n",
    "        elif t > 0:\n",
    "            cognitive = self.c[0]*self.r[0]*(self.xl - self.pop[:, t-1])\n",
    "            social = self.c[1]*self.r[1]*self.xg\n",
    "            return self.rho + self.v[:, t-1] + cognitive + social\n",
    "    \n",
    "    def run(self):\n",
    "        for it in range(0, self.it+1):\n",
    "            self.v[:, it] = self.adjust(self.pop, it)[:, 0]\n",
    "            if it > 0:\n",
    "                self.pop[:, it] = self.pop[:, it-1] + self.v[:, it] # update populasi\n",
    "            self.fitness[:, it] = self.func(self.pop[:, it])\n",
    "            \n",
    "            opt_grow = np.argmin(self.fitness[:, it])\n",
    "            self.xg = self.pop[opt_grow, it]\n",
    "            if it == 0:\n",
    "                self.xl[:, 0] = self.pop[:, it]\n",
    "            elif it > 0:\n",
    "                for i in range(0, self.n_pop):\n",
    "                    opt_lrow = np.argmin(self.fitness[i, 0:it+1])\n",
    "                    self.xl[i, 0] = self.pop[i, opt_lrow]\n",
    "            print(\"Populasi iterasi \"+str(it)+\"\\n\", self.pop)"
   ]
  },
  {
   "cell_type": "code",
   "execution_count": 46,
   "metadata": {},
   "outputs": [
    {
     "name": "stdout",
     "output_type": "stream",
     "text": [
      "Populasi iterasi 0\n",
      " [[-4.  0.  0.  0.  0.  0.]\n",
      " [-3.  0.  0.  0.  0.  0.]\n",
      " [ 2.  0.  0.  0.  0.  0.]\n",
      " [ 5.  0.  0.  0.  0.  0.]]\n",
      "Populasi iterasi 1\n",
      " [[-4.         -4.96524681  0.          0.          0.          0.        ]\n",
      " [-3.         -3.25344016  0.          0.          0.          0.        ]\n",
      " [ 2.          5.30559307  0.          0.          0.          0.        ]\n",
      " [ 5.         10.44101302  0.          0.          0.          0.        ]]\n",
      "Populasi iterasi 2\n",
      " [[-4.         -4.96524681 -6.3746955   0.          0.          0.        ]\n",
      " [-3.         -3.25344016 -3.9510822   0.          0.          0.        ]\n",
      " [ 2.          5.30559307  8.16698427  0.          0.          0.        ]\n",
      " [ 5.         10.44101302 15.43782416  0.          0.          0.        ]]\n",
      "Populasi iterasi 3\n",
      " [[-4.         -4.96524681 -6.3746955  -7.68210404  0.          0.        ]\n",
      " [-3.         -3.25344016 -3.9510822  -4.5466841   0.          0.        ]\n",
      " [ 2.          5.30559307  8.16698427 11.13041561  0.          0.        ]\n",
      " [ 5.         10.44101302 15.43782416 20.53667544  0.          0.        ]]\n",
      "Populasi iterasi 4\n",
      " [[-4.         -4.96524681 -6.3746955  -7.68210404 -8.3470186   0.        ]\n",
      " [-3.         -3.25344016 -3.9510822  -4.5466841  -4.49979201  0.        ]\n",
      " [ 2.          5.30559307  8.16698427 11.13041561 14.73634094  0.        ]\n",
      " [ 5.         10.44101302 15.43782416 20.53667544 26.27802071  0.        ]]\n",
      "Populasi iterasi 5\n",
      " [[-4.         -4.96524681 -6.3746955  -7.68210404 -8.3470186  -7.86543038]\n",
      " [-3.         -3.25344016 -3.9510822  -4.5466841  -4.49979201 -3.30639715]\n",
      " [ 2.          5.30559307  8.16698427 11.13041561 14.73634094 19.48876904]\n",
      " [ 5.         10.44101302 15.43782416 20.53667544 26.27802071 33.16586875]]\n"
     ]
    }
   ],
   "source": [
    "x = np.array([-4,-3,2,5])\n",
    "\n",
    "# cara mendefinisikan fungsi sbg. lambda -> lambda _var : f(_var)\n",
    "f = lambda a : 2*a**2 + 4*a + 5\n",
    "latihan = Swarm(f, x, it=5)\n",
    "latihan.run()"
   ]
  },
  {
   "cell_type": "code",
   "execution_count": 47,
   "metadata": {},
   "outputs": [
    {
     "data": {
      "text/plain": [
       "array([[  21.        ,   34.44636456,   60.77470337,   92.30102885,\n",
       "         110.95736452,   97.26826868],\n",
       "       [  11.        ,   13.15598515,   20.41777233,   28.1579362 ,\n",
       "          27.49708818,   13.63893558],\n",
       "       [  21.        ,   82.521008  ,  171.06720132,  297.29396588,\n",
       "         498.26485254,  842.57931368],\n",
       "       [  75.        ,  264.79355764,  543.40412608,  930.65677803,\n",
       "        1491.180828  , 2337.61317539]])"
      ]
     },
     "execution_count": 47,
     "metadata": {},
     "output_type": "execute_result"
    }
   ],
   "source": [
    "latihan.fitness"
   ]
  },
  {
   "cell_type": "code",
   "execution_count": 48,
   "metadata": {},
   "outputs": [
    {
     "data": {
      "text/plain": [
       "array([[-4.],\n",
       "       [-3.],\n",
       "       [ 2.],\n",
       "       [ 5.]])"
      ]
     },
     "execution_count": 48,
     "metadata": {},
     "output_type": "execute_result"
    }
   ],
   "source": [
    "latihan.xl"
   ]
  }
 ],
 "metadata": {
  "kernelspec": {
   "display_name": "Python 3",
   "language": "python",
   "name": "python3"
  },
  "language_info": {
   "codemirror_mode": {
    "name": "ipython",
    "version": 3
   },
   "file_extension": ".py",
   "mimetype": "text/x-python",
   "name": "python",
   "nbconvert_exporter": "python",
   "pygments_lexer": "ipython3",
   "version": "3.6.7"
  }
 },
 "nbformat": 4,
 "nbformat_minor": 2
}
